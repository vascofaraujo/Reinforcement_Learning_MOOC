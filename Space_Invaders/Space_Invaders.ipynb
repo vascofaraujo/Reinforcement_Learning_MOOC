{
 "cells": [
  {
   "cell_type": "code",
   "execution_count": 8,
   "id": "1b1e352d",
   "metadata": {},
   "outputs": [],
   "source": [
    "import gym"
   ]
  },
  {
   "cell_type": "code",
   "execution_count": 9,
   "id": "39b66279",
   "metadata": {},
   "outputs": [],
   "source": [
    "env = gym.make(\"SpaceInvaders-v0\")"
   ]
  },
  {
   "cell_type": "code",
   "execution_count": 10,
   "id": "91cdcec4",
   "metadata": {},
   "outputs": [
    {
     "name": "stdout",
     "output_type": "stream",
     "text": [
      "Episode: 1\n",
      "Score: 195.0\n",
      "Episode: 2\n",
      "Score: 320.0\n",
      "Episode: 3\n",
      "Score: 290.0\n",
      "Episode: 4\n",
      "Score: 145.0\n",
      "Episode: 5\n",
      "Score: 320.0\n",
      "Episode: 6\n",
      "Score: 110.0\n",
      "Episode: 7\n",
      "Score: 155.0\n",
      "Episode: 8\n",
      "Score: 5.0\n",
      "Episode: 9\n",
      "Score: 180.0\n"
     ]
    }
   ],
   "source": [
    "episodes = 10\n",
    "\n",
    "for episode in range(1,episodes):\n",
    "    state = env.reset()\n",
    "    done = False\n",
    "    score = 0\n",
    "    \n",
    "    while not done:\n",
    "        env.render()\n",
    "        state, reward, done, info = env.step(env.action_space.sample())\n",
    "        score += reward\n",
    "    print('Episode: {}\\nScore: {}'.format(episode,score))\n",
    "\n",
    "env.close()"
   ]
  },
  {
   "cell_type": "code",
   "execution_count": 12,
   "id": "821c8f73",
   "metadata": {},
   "outputs": [],
   "source": [
    "#Import Packages\n",
    "import numpy as np\n",
    "from tensorflow.keras.models import Sequential\n",
    "from tensorflow.keras.layers import Dense, Flatten, Conv2D\n",
    "from tensorflow.keras.optimizers import Adam"
   ]
  },
  {
   "cell_type": "code",
   "execution_count": 13,
   "id": "87cd5d79",
   "metadata": {},
   "outputs": [],
   "source": [
    "def build_model(height, width, channels, actions):\n",
    "    model = Sequential()\n",
    "    model.add(Conv2D(32, (8,8), strides=(4,4), activation=\"relu\", input_shape=(3, height, width, channels)))\n",
    "    model.add(Conv2D(64,(4,4), strides=(2,2), activation=\"relu\"))\n",
    "    model.add(Flatten())\n",
    "    model.add(Dense(512, activation=\"relu\"))\n",
    "    model.add(Dense(256, activation=\"relu\"))\n",
    "    model.add(Dense(actions, activation=\"linear\"))\n",
    "    return model"
   ]
  },
  {
   "cell_type": "code",
   "execution_count": 14,
   "id": "8ee444eb",
   "metadata": {},
   "outputs": [],
   "source": [
    "height, width, channels = env.observation_space.shape\n",
    "actions = env.action_space.n"
   ]
  },
  {
   "cell_type": "code",
   "execution_count": 15,
   "id": "24672f5e",
   "metadata": {},
   "outputs": [],
   "source": [
    "model = build_model(height, width, channels, actions)"
   ]
  },
  {
   "cell_type": "code",
   "execution_count": 16,
   "id": "5e7982fb",
   "metadata": {},
   "outputs": [],
   "source": [
    "#Import keras-rl2 reinforcment learning functions\n",
    "from rl.agents import DQNAgent\n",
    "from rl.memory import SequentialMemory\n",
    "from rl.policy import LinearAnnealedPolicy, EpsGreedyQPolicy"
   ]
  },
  {
   "cell_type": "code",
   "execution_count": 26,
   "id": "f0516409",
   "metadata": {},
   "outputs": [],
   "source": [
    "def build_agent(model, actions):\n",
    "    policy = LinearAnnealedPolicy(EpsGreedyQPolicy(), attr='eps', value_max=1, value_min=1, value_test=2, nb_steps = 10000)\n",
    "    memory = SequentialMemory(limit = 2000, window_length=3)\n",
    "    dqn = DQNAgent(model=model, memory=memory, policy=policy,\n",
    "                    enable_dueling_network=True, dueling_type='avg',\n",
    "                    nb_actions=actions, nb_steps_warmup=1000)\n",
    "    return dqn"
   ]
  },
  {
   "cell_type": "code",
   "execution_count": 27,
   "id": "fa5ee0cc",
   "metadata": {},
   "outputs": [],
   "source": [
    "dqn = build_agent(model, actions)"
   ]
  },
  {
   "cell_type": "code",
   "execution_count": 28,
   "id": "6d0c90e9",
   "metadata": {},
   "outputs": [],
   "source": [
    "dqn.compile(Adam(lr=0.0001))"
   ]
  },
  {
   "cell_type": "code",
   "execution_count": 31,
   "id": "45b85408",
   "metadata": {},
   "outputs": [
    {
     "name": "stdout",
     "output_type": "stream",
     "text": [
      "Training for 40000 steps ...\n",
      "Interval 1 (0 steps performed)\n",
      "10000/10000 [==============================] - 5449s 545ms/step - reward: 0.2495\n",
      "14 episodes - episode_reward: 173.929 [20.000, 515.000] - loss: 1.139 - mean_q: 12.489 - mean_eps: 1.000 - ale.lives: 2.022\n",
      "\n",
      "Interval 2 (10000 steps performed)\n",
      "10000/10000 [==============================] - 5873s 587ms/step - reward: 0.2460\n",
      "15 episodes - episode_reward: 163.667 [45.000, 445.000] - loss: 0.904 - mean_q: 14.082 - mean_eps: 1.000 - ale.lives: 2.098\n",
      "\n",
      "Interval 3 (20000 steps performed)\n",
      "10000/10000 [==============================] - 5674s 567ms/step - reward: 0.2630\n",
      "12 episodes - episode_reward: 223.333 [75.000, 465.000] - loss: 0.807 - mean_q: 14.042 - mean_eps: 1.000 - ale.lives: 2.177\n",
      "\n",
      "Interval 4 (30000 steps performed)\n",
      "10000/10000 [==============================] - 5679s 568ms/step - reward: 0.1845\n",
      "done, took 22675.582 seconds\n"
     ]
    },
    {
     "data": {
      "text/plain": [
       "<tensorflow.python.keras.callbacks.History at 0x7f83000eca00>"
      ]
     },
     "execution_count": 31,
     "metadata": {},
     "output_type": "execute_result"
    }
   ],
   "source": [
    "dqn.fit(env, nb_steps=40000, visualize=False, verbose=1)"
   ]
  },
  {
   "cell_type": "code",
   "execution_count": 32,
   "id": "1ae13ed3",
   "metadata": {},
   "outputs": [
    {
     "name": "stdout",
     "output_type": "stream",
     "text": [
      "Testing for 10 episodes ...\n",
      "Episode 1: reward: 285.000, steps: 1400\n",
      "Episode 2: reward: 180.000, steps: 866\n",
      "Episode 3: reward: 265.000, steps: 1091\n",
      "Episode 4: reward: 180.000, steps: 823\n",
      "Episode 5: reward: 160.000, steps: 802\n",
      "Episode 6: reward: 180.000, steps: 811\n",
      "Episode 7: reward: 140.000, steps: 849\n",
      "Episode 8: reward: 235.000, steps: 976\n",
      "Episode 9: reward: 155.000, steps: 815\n",
      "Episode 10: reward: 180.000, steps: 815\n",
      "196.0\n"
     ]
    }
   ],
   "source": [
    "scores = dqn.test(env, nb_episodes=10, visualize=True)\n",
    "print(np.mean(scores.history['episode_reward']))"
   ]
  },
  {
   "cell_type": "code",
   "execution_count": null,
   "id": "836f5abf",
   "metadata": {},
   "outputs": [],
   "source": [
    "dqn.save_weights('models/dqn.h5')"
   ]
  },
  {
   "cell_type": "code",
   "execution_count": null,
   "id": "7268fb6d",
   "metadata": {},
   "outputs": [],
   "source": []
  }
 ],
 "metadata": {
  "kernelspec": {
   "display_name": "Python 3",
   "language": "python",
   "name": "python3"
  },
  "language_info": {
   "codemirror_mode": {
    "name": "ipython",
    "version": 3
   },
   "file_extension": ".py",
   "mimetype": "text/x-python",
   "name": "python",
   "nbconvert_exporter": "python",
   "pygments_lexer": "ipython3",
   "version": "3.8.1"
  }
 },
 "nbformat": 4,
 "nbformat_minor": 5
}
